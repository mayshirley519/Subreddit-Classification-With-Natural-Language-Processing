{
 "cells": [
  {
   "cell_type": "markdown",
   "id": "87bcc3a5-65fb-40f7-b0a0-158102abbe63",
   "metadata": {},
   "source": [
    "# Project 3 - Reddit Classification"
   ]
  },
  {
   "cell_type": "markdown",
   "id": "bfe2982e-aafc-4a24-ae7f-296cf1d252e7",
   "metadata": {},
   "source": [
    "## Problem Statement\n",
    "Japanese and Chinese cuisines share many similarities. People from non-Asian backgrounds can easily mix them up. However, machine learning allows us to tell the two cuisines apart quickly. We aim to correctly sort Reddit posts into their related subreddits for this project using the classification model with the highest test score and the most balanced bias/variance tradeoff.  "
   ]
  },
  {
   "cell_type": "markdown",
   "id": "63d58bcf-38b8-40b8-9fc0-868f196569c2",
   "metadata": {},
   "source": [
    "### Imports"
   ]
  },
  {
   "cell_type": "code",
   "execution_count": 21,
   "id": "5456f5ff-2cc2-48fc-b358-16056da23e83",
   "metadata": {},
   "outputs": [],
   "source": [
    "import pandas as pd\n",
    "import requests\n",
    "import numpy as np\n",
    "import matplotlib.pyplot as plt\n",
    "import time\n",
    "import seaborn as sns\n",
    "from nltk.tokenize import RegexpTokenizer\n",
    "from sklearn.linear_model import LogisticRegressionCV\n",
    "from sklearn.ensemble import RandomForestClassifier\n",
    "from sklearn.model_selection import train_test_split, GridSearchCV, cross_val_score\n",
    "from nltk.stem import WordNetLemmatizer\n",
    "from nltk.stem.porter import PorterStemmer\n",
    "from nltk.corpus import stopwords\n",
    "from sklearn.feature_extraction.text import CountVectorizer, TfidfVectorizer\n",
    "from sklearn.naive_bayes import MultinomialNB, BernoulliNB\n",
    "from sklearn import metrics"
   ]
  },
  {
   "cell_type": "markdown",
   "id": "7a19ebb3-8e67-45c1-85a1-3aa06d71e625",
   "metadata": {},
   "source": [
    "### Data Collection"
   ]
  },
  {
   "cell_type": "code",
   "execution_count": 2,
   "id": "a7a97290-bea5-4ce6-af48-4107a97ab189",
   "metadata": {},
   "outputs": [],
   "source": [
    "# Create a function to scrape data from reddit\n",
    "def get_data(t, food):\n",
    "    list_data = []\n",
    "    url = 'https://api.pushshift.io/reddit/search/submission'\n",
    "    params = {'subreddit': food, 'size': 100, 'before': t}\n",
    "    data = requests.get(url, params).json()['data']\n",
    "    list_data += data\n",
    "    while len(list_data) <= 15_000: # Get up to 15_000 submissions\n",
    "        new_t = list_data[-1].get('created_utc')\n",
    "        new_params = {'subreddit': food, 'size': 100, 'before': new_t}\n",
    "        new_data = requests.get(url, new_params).json()['data']\n",
    "        list_data += new_data\n",
    "        # introduce sleeptime to slowdown the pulling process. \n",
    "        # Since Reddit has limits to the maximum pulls per second. \n",
    "        time.sleep(1) \n",
    "    return pd.DataFrame(list_data)"
   ]
  },
  {
   "cell_type": "code",
   "execution_count": 3,
   "id": "577d01bf-e178-450a-a150-fac251e75362",
   "metadata": {},
   "outputs": [],
   "source": [
    "df_jp = get_data(1639180013, 'JapaneseFood')"
   ]
  },
  {
   "cell_type": "code",
   "execution_count": 4,
   "id": "bbc979f2-7d54-45f1-837e-59c3ac713306",
   "metadata": {},
   "outputs": [
    {
     "data": {
      "text/plain": [
       "(15094, 100)"
      ]
     },
     "execution_count": 4,
     "metadata": {},
     "output_type": "execute_result"
    }
   ],
   "source": [
    "# Check the amount of posts we gathered\n",
    "df_jp.shape"
   ]
  },
  {
   "cell_type": "code",
   "execution_count": 5,
   "id": "d46f5591-061e-43ca-a161-92493ae10064",
   "metadata": {},
   "outputs": [],
   "source": [
    "# Export gathered data as csv file\n",
    "df_jp.to_csv('Data/Japanesefood.csv') "
   ]
  },
  {
   "cell_type": "code",
   "execution_count": 6,
   "id": "8b7ce259-c8cd-405b-af8c-56d07a184083",
   "metadata": {},
   "outputs": [],
   "source": [
    "# Create a function to scrape data from 'ChineseFood' subreddit.\n",
    "# Same function used in JapaneseFood datacolletion. \n",
    "# With 9000 posts instead of 15_000 \n",
    "# because 'ChineseFood' subreddit has less than 10_000 posts in total. \n",
    "def get_data(t, food):\n",
    "    list_data = []\n",
    "    url = 'https://api.pushshift.io/reddit/search/submission'\n",
    "    params = {'subreddit': food, 'size': 100, 'before': t}\n",
    "    data = requests.get(url, params).json()['data']\n",
    "    list_data += data\n",
    "    while len(list_data) <= 9_000: # Get up to 9_000 submissions. \n",
    "        new_t = list_data[-1].get('created_utc')\n",
    "        new_params = {'subreddit': food, 'size': 100, 'before': new_t}\n",
    "        new_data = requests.get(url, new_params).json()['data']\n",
    "        list_data += new_data\n",
    "        time.sleep(1)\n",
    "    return pd.DataFrame(list_data)"
   ]
  },
  {
   "cell_type": "code",
   "execution_count": 7,
   "id": "92d10f39-8370-4ba7-984b-954fd3c92a74",
   "metadata": {},
   "outputs": [],
   "source": [
    "# Use the function to gather data for subreddit 'ChineseFood';\n",
    "df_ch = get_data(1639180013, 'ChineseFood')"
   ]
  },
  {
   "cell_type": "code",
   "execution_count": 8,
   "id": "79c3de9f-f284-4234-812d-84936d6e102d",
   "metadata": {},
   "outputs": [
    {
     "data": {
      "text/plain": [
       "(9096, 94)"
      ]
     },
     "execution_count": 8,
     "metadata": {},
     "output_type": "execute_result"
    }
   ],
   "source": [
    "# Check the amount of posts we gathered\n",
    "df_ch.shape"
   ]
  },
  {
   "cell_type": "code",
   "execution_count": 9,
   "id": "060bc42d-e8a4-45be-b411-e8c65d823239",
   "metadata": {},
   "outputs": [],
   "source": [
    "# Export gathered data as csv file\n",
    "df_ch.to_csv('Data/Chinesefood.csv') "
   ]
  },
  {
   "cell_type": "markdown",
   "id": "40114ff5-1aba-497c-a45b-e5112e093f0e",
   "metadata": {},
   "source": [
    "## Data Cleaning and EDA"
   ]
  },
  {
   "cell_type": "code",
   "execution_count": 10,
   "id": "872b1869-68a6-4686-a453-f3fc695894dd",
   "metadata": {},
   "outputs": [
    {
     "name": "stderr",
     "output_type": "stream",
     "text": [
      "/Users/ben/opt/anaconda3/envs/dsi-111/lib/python3.9/site-packages/IPython/core/interactiveshell.py:3165: DtypeWarning: Columns (1,2,5,6,7,9,10,11,12,13,14,18,19,21,22,23,24,25,26,27,29,31,32,33,35,36,37,41,43,48,49,54,60,63,64,70,74,75,76,77,80,81,82,84,85,87,88) have mixed types.Specify dtype option on import or set low_memory=False.\n",
      "  has_raised = await self.run_ast_nodes(code_ast.body, cell_name,\n",
      "/Users/ben/opt/anaconda3/envs/dsi-111/lib/python3.9/site-packages/IPython/core/interactiveshell.py:3165: DtypeWarning: Columns (2,9,13,14,20,21,22,23,24,25,27,28,30,31,34,35,36,42,49,50,51,69,72,73,80,85,87,88,90,91,92,93,99,100) have mixed types.Specify dtype option on import or set low_memory=False.\n",
      "  has_raised = await self.run_ast_nodes(code_ast.body, cell_name,\n"
     ]
    }
   ],
   "source": [
    "# Merge Chinesefood and Japanesefood datasets\n",
    "Chinesefood = pd.read_csv('Data/Chinesefood.csv')\n",
    "Japanesefood = pd.read_csv('Data/Japanesefood.csv')\n",
    "Chinesefood = Chinesefood[['subreddit', 'title']]\n",
    "Japanesefood = Japanesefood[['subreddit', 'title']]"
   ]
  },
  {
   "cell_type": "code",
   "execution_count": 11,
   "id": "5f34e059-61ae-49d0-a03a-7b0b79320103",
   "metadata": {},
   "outputs": [
    {
     "name": "stdout",
     "output_type": "stream",
     "text": [
      "<class 'pandas.core.frame.DataFrame'>\n",
      "RangeIndex: 24190 entries, 0 to 24189\n",
      "Data columns (total 2 columns):\n",
      " #   Column     Non-Null Count  Dtype \n",
      "---  ------     --------------  ----- \n",
      " 0   subreddit  24190 non-null  object\n",
      " 1   title      24190 non-null  object\n",
      "dtypes: object(2)\n",
      "memory usage: 378.1+ KB\n"
     ]
    }
   ],
   "source": [
    "# Check for missing values in the columns. \n",
    "food = pd.concat([Chinesefood, Japanesefood], ignore_index=True)\n",
    "# Save and export combined datasets\n",
    "food.to_csv('Data/food.csv', index=False)\n",
    "food.info() "
   ]
  },
  {
   "cell_type": "code",
   "execution_count": 12,
   "id": "43646bca-4d84-41fe-aac0-a8fa1a9695a2",
   "metadata": {},
   "outputs": [],
   "source": [
    "# Drop duplicate rows\n",
    "food.drop_duplicates(subset='title', inplace=True)"
   ]
  },
  {
   "cell_type": "code",
   "execution_count": 13,
   "id": "3dcfe1d4-a0b0-4736-b3ca-8a1aa4b69cc3",
   "metadata": {},
   "outputs": [],
   "source": [
    "# Create a new column 'word_count'\n",
    "food['word_count'] = food['title'].apply(lambda x: len(x.split()))"
   ]
  },
  {
   "cell_type": "code",
   "execution_count": 14,
   "id": "c1e1a0c0-193f-49a9-aec5-7573f069a7d2",
   "metadata": {},
   "outputs": [
    {
     "data": {
      "text/html": [
       "<div>\n",
       "<style scoped>\n",
       "    .dataframe tbody tr th:only-of-type {\n",
       "        vertical-align: middle;\n",
       "    }\n",
       "\n",
       "    .dataframe tbody tr th {\n",
       "        vertical-align: top;\n",
       "    }\n",
       "\n",
       "    .dataframe thead th {\n",
       "        text-align: right;\n",
       "    }\n",
       "</style>\n",
       "<table border=\"1\" class=\"dataframe\">\n",
       "  <thead>\n",
       "    <tr style=\"text-align: right;\">\n",
       "      <th></th>\n",
       "      <th>word_count</th>\n",
       "    </tr>\n",
       "  </thead>\n",
       "  <tbody>\n",
       "    <tr>\n",
       "      <th>count</th>\n",
       "      <td>23336.000000</td>\n",
       "    </tr>\n",
       "    <tr>\n",
       "      <th>mean</th>\n",
       "      <td>9.214518</td>\n",
       "    </tr>\n",
       "    <tr>\n",
       "      <th>std</th>\n",
       "      <td>7.304929</td>\n",
       "    </tr>\n",
       "    <tr>\n",
       "      <th>min</th>\n",
       "      <td>1.000000</td>\n",
       "    </tr>\n",
       "    <tr>\n",
       "      <th>25%</th>\n",
       "      <td>5.000000</td>\n",
       "    </tr>\n",
       "    <tr>\n",
       "      <th>50%</th>\n",
       "      <td>7.000000</td>\n",
       "    </tr>\n",
       "    <tr>\n",
       "      <th>75%</th>\n",
       "      <td>11.000000</td>\n",
       "    </tr>\n",
       "    <tr>\n",
       "      <th>max</th>\n",
       "      <td>60.000000</td>\n",
       "    </tr>\n",
       "  </tbody>\n",
       "</table>\n",
       "</div>"
      ],
      "text/plain": [
       "         word_count\n",
       "count  23336.000000\n",
       "mean       9.214518\n",
       "std        7.304929\n",
       "min        1.000000\n",
       "25%        5.000000\n",
       "50%        7.000000\n",
       "75%       11.000000\n",
       "max       60.000000"
      ]
     },
     "execution_count": 14,
     "metadata": {},
     "output_type": "execute_result"
    }
   ],
   "source": [
    "# Examine the summary statistics of the dataframe\n",
    "food.describe()"
   ]
  },
  {
   "cell_type": "code",
   "execution_count": 15,
   "id": "8748c448-5cad-4de1-a649-c2a026664691",
   "metadata": {},
   "outputs": [
    {
     "data": {
      "text/plain": [
       "array(['chinesefood', 'JapaneseFood'], dtype=object)"
      ]
     },
     "execution_count": 15,
     "metadata": {},
     "output_type": "execute_result"
    }
   ],
   "source": [
    "food.subreddit.unique()"
   ]
  },
  {
   "cell_type": "code",
   "execution_count": 16,
   "id": "e36976a5-cdeb-413a-819e-189e10b8e779",
   "metadata": {},
   "outputs": [],
   "source": [
    "# create two dataframes to examine word counts in each subreddits\n",
    "chinesefood = food[food['subreddit'] == 'chinesefood']\n",
    "japanesefood = food[food['subreddit'] == 'JapaneseFood']"
   ]
  },
  {
   "cell_type": "code",
   "execution_count": 17,
   "id": "92f8e484-e456-4b01-8d39-2b723691f731",
   "metadata": {},
   "outputs": [
    {
     "data": {
      "text/html": [
       "<div>\n",
       "<style scoped>\n",
       "    .dataframe tbody tr th:only-of-type {\n",
       "        vertical-align: middle;\n",
       "    }\n",
       "\n",
       "    .dataframe tbody tr th {\n",
       "        vertical-align: top;\n",
       "    }\n",
       "\n",
       "    .dataframe thead th {\n",
       "        text-align: right;\n",
       "    }\n",
       "</style>\n",
       "<table border=\"1\" class=\"dataframe\">\n",
       "  <thead>\n",
       "    <tr style=\"text-align: right;\">\n",
       "      <th></th>\n",
       "      <th>word_count</th>\n",
       "    </tr>\n",
       "  </thead>\n",
       "  <tbody>\n",
       "    <tr>\n",
       "      <th>count</th>\n",
       "      <td>8841.000000</td>\n",
       "    </tr>\n",
       "    <tr>\n",
       "      <th>mean</th>\n",
       "      <td>9.512385</td>\n",
       "    </tr>\n",
       "    <tr>\n",
       "      <th>std</th>\n",
       "      <td>7.622105</td>\n",
       "    </tr>\n",
       "    <tr>\n",
       "      <th>min</th>\n",
       "      <td>1.000000</td>\n",
       "    </tr>\n",
       "    <tr>\n",
       "      <th>25%</th>\n",
       "      <td>5.000000</td>\n",
       "    </tr>\n",
       "    <tr>\n",
       "      <th>50%</th>\n",
       "      <td>8.000000</td>\n",
       "    </tr>\n",
       "    <tr>\n",
       "      <th>75%</th>\n",
       "      <td>11.000000</td>\n",
       "    </tr>\n",
       "    <tr>\n",
       "      <th>max</th>\n",
       "      <td>60.000000</td>\n",
       "    </tr>\n",
       "  </tbody>\n",
       "</table>\n",
       "</div>"
      ],
      "text/plain": [
       "        word_count\n",
       "count  8841.000000\n",
       "mean      9.512385\n",
       "std       7.622105\n",
       "min       1.000000\n",
       "25%       5.000000\n",
       "50%       8.000000\n",
       "75%      11.000000\n",
       "max      60.000000"
      ]
     },
     "execution_count": 17,
     "metadata": {},
     "output_type": "execute_result"
    }
   ],
   "source": [
    "# Summary statistic of chinesefood\n",
    "chinesefood.describe()"
   ]
  },
  {
   "cell_type": "code",
   "execution_count": 18,
   "id": "dffd70a1-c21a-46b6-90c6-c87583584d97",
   "metadata": {},
   "outputs": [
    {
     "data": {
      "text/html": [
       "<div>\n",
       "<style scoped>\n",
       "    .dataframe tbody tr th:only-of-type {\n",
       "        vertical-align: middle;\n",
       "    }\n",
       "\n",
       "    .dataframe tbody tr th {\n",
       "        vertical-align: top;\n",
       "    }\n",
       "\n",
       "    .dataframe thead th {\n",
       "        text-align: right;\n",
       "    }\n",
       "</style>\n",
       "<table border=\"1\" class=\"dataframe\">\n",
       "  <thead>\n",
       "    <tr style=\"text-align: right;\">\n",
       "      <th></th>\n",
       "      <th>word_count</th>\n",
       "    </tr>\n",
       "  </thead>\n",
       "  <tbody>\n",
       "    <tr>\n",
       "      <th>count</th>\n",
       "      <td>14495.000000</td>\n",
       "    </tr>\n",
       "    <tr>\n",
       "      <th>mean</th>\n",
       "      <td>9.032839</td>\n",
       "    </tr>\n",
       "    <tr>\n",
       "      <th>std</th>\n",
       "      <td>7.098658</td>\n",
       "    </tr>\n",
       "    <tr>\n",
       "      <th>min</th>\n",
       "      <td>1.000000</td>\n",
       "    </tr>\n",
       "    <tr>\n",
       "      <th>25%</th>\n",
       "      <td>5.000000</td>\n",
       "    </tr>\n",
       "    <tr>\n",
       "      <th>50%</th>\n",
       "      <td>7.000000</td>\n",
       "    </tr>\n",
       "    <tr>\n",
       "      <th>75%</th>\n",
       "      <td>11.000000</td>\n",
       "    </tr>\n",
       "    <tr>\n",
       "      <th>max</th>\n",
       "      <td>59.000000</td>\n",
       "    </tr>\n",
       "  </tbody>\n",
       "</table>\n",
       "</div>"
      ],
      "text/plain": [
       "         word_count\n",
       "count  14495.000000\n",
       "mean       9.032839\n",
       "std        7.098658\n",
       "min        1.000000\n",
       "25%        5.000000\n",
       "50%        7.000000\n",
       "75%       11.000000\n",
       "max       59.000000"
      ]
     },
     "execution_count": 18,
     "metadata": {},
     "output_type": "execute_result"
    }
   ],
   "source": [
    "# Summary statistic of japanesefood\n",
    "japanesefood.describe()"
   ]
  },
  {
   "cell_type": "code",
   "execution_count": 19,
   "id": "0c5c7ec4-06c4-4261-9d33-74ab88be37cb",
   "metadata": {},
   "outputs": [
    {
     "data": {
      "image/png": "[encoded data removed]",
      "text/plain": [
       "<Figure size 864x576 with 2 Axes>"
      ]
     },
     "metadata": {
      "needs_background": "light"
     },
     "output_type": "display_data"
    }
   ],
   "source": [
    "# Visualize the word counts of each subreddit\n",
    "fig, ax = plt.subplots(1, 2, figsize=(12,8))\n",
    "sns.histplot(chinesefood['word_count'], ax=ax[0])\n",
    "sns.histplot(japanesefood['word_count'], ax=ax[1], color= 'orange' )\n",
    "ax[0].set(xlabel=\"Chinese Food\", ylabel='Count', title='Word Counts in ChineseFood Subreddit')\n",
    "ax[1].set(xlabel=\"Japanese Food\", ylabel='Count', title='Word Count in JapaneseFood Subreddit')\n",
    "\n",
    "fig.suptitle('Word Count Distributions', fontsize=20);\n",
    "plt.tight_layout()\n",
    "plt.savefig(\"Figures/word_count_distributions.png\")"
   ]
  },
  {
   "cell_type": "markdown",
   "id": "fa58f9f9-9c99-4ec6-a47c-f33c45d4ac5a",
   "metadata": {},
   "source": [
    "## Preprocessing"
   ]
  },
  {
   "cell_type": "code",
   "execution_count": 22,
   "id": "b7da6a17-701b-4219-8d99-f2c3b8c38bc0",
   "metadata": {
    "tags": []
   },
   "outputs": [
    {
     "name": "stderr",
     "output_type": "stream",
     "text": [
      "[nltk_data] Downloading package stopwords to /Users/ben/nltk_data...\n",
      "[nltk_data]   Package stopwords is already up-to-date!\n"
     ]
    },
    {
     "data": {
      "text/plain": [
       "True"
      ]
     },
     "execution_count": 22,
     "metadata": {},
     "output_type": "execute_result"
    }
   ],
   "source": [
    "tokenizer = RegexpTokenizer('\\w+')\n",
    "lemmatizer = WordNetLemmatizer()\n",
    "stemmer = PorterStemmer()\n",
    "import nltk\n",
    "nltk.download('stopwords') #Download stopwords"
   ]
  },
  {
   "cell_type": "code",
   "execution_count": 23,
   "id": "d8284a80-e194-49bf-811c-d62d293210f7",
   "metadata": {},
   "outputs": [
    {
     "data": {
      "text/html": [
       "<div>\n",
       "<style scoped>\n",
       "    .dataframe tbody tr th:only-of-type {\n",
       "        vertical-align: middle;\n",
       "    }\n",
       "\n",
       "    .dataframe tbody tr th {\n",
       "        vertical-align: top;\n",
       "    }\n",
       "\n",
       "    .dataframe thead th {\n",
       "        text-align: right;\n",
       "    }\n",
       "</style>\n",
       "<table border=\"1\" class=\"dataframe\">\n",
       "  <thead>\n",
       "    <tr style=\"text-align: right;\">\n",
       "      <th></th>\n",
       "      <th>subreddit</th>\n",
       "      <th>title</th>\n",
       "      <th>word_count</th>\n",
       "    </tr>\n",
       "  </thead>\n",
       "  <tbody>\n",
       "    <tr>\n",
       "      <th>0</th>\n",
       "      <td>chinesefood</td>\n",
       "      <td>Cantonese Sausage Spare Ribs Claypot Rice</td>\n",
       "      <td>6</td>\n",
       "    </tr>\n",
       "    <tr>\n",
       "      <th>1</th>\n",
       "      <td>chinesefood</td>\n",
       "      <td>Mapo Tofu, Tofu Mapo 麻婆豆腐！</td>\n",
       "      <td>5</td>\n",
       "    </tr>\n",
       "    <tr>\n",
       "      <th>2</th>\n",
       "      <td>chinesefood</td>\n",
       "      <td>Chinese hotpot ❤️</td>\n",
       "      <td>3</td>\n",
       "    </tr>\n",
       "    <tr>\n",
       "      <th>3</th>\n",
       "      <td>chinesefood</td>\n",
       "      <td>Got our laoganma resupply in, plus some new st...</td>\n",
       "      <td>15</td>\n",
       "    </tr>\n",
       "    <tr>\n",
       "      <th>4</th>\n",
       "      <td>chinesefood</td>\n",
       "      <td>Xinjiang Roasted Nang</td>\n",
       "      <td>3</td>\n",
       "    </tr>\n",
       "  </tbody>\n",
       "</table>\n",
       "</div>"
      ],
      "text/plain": [
       "     subreddit                                              title  word_count\n",
       "0  chinesefood          Cantonese Sausage Spare Ribs Claypot Rice           6\n",
       "1  chinesefood                         Mapo Tofu, Tofu Mapo 麻婆豆腐！           5\n",
       "2  chinesefood                                  Chinese hotpot ❤️           3\n",
       "3  chinesefood  Got our laoganma resupply in, plus some new st...          15\n",
       "4  chinesefood                              Xinjiang Roasted Nang           3"
      ]
     },
     "execution_count": 23,
     "metadata": {},
     "output_type": "execute_result"
    }
   ],
   "source": [
    "food = food.drop_duplicates(ignore_index=True)\n",
    "food.head()"
   ]
  },
  {
   "cell_type": "code",
   "execution_count": 24,
   "id": "4d1be762-0a78-42be-b708-81d6dfbe4046",
   "metadata": {},
   "outputs": [],
   "source": [
    "processed = []\n",
    "for title in food['title']:\n",
    "    # Tokenize the title\n",
    "    tokens = tokenizer.tokenize(title.lower())\n",
    "    # Remove stopwords\n",
    "    no_stopwords = [word for word in tokens if word not in stopwords.words('english')]\n",
    "    # Lemmatize the tokens with stopwords removed\n",
    "    lem_tokens = [lemmatizer.lemmatize(word) for word in no_stopwords]\n",
    "    # Further stem the tokens\n",
    "    stem_tokens = [stemmer.stem(word) for word in lem_tokens]\n",
    "    joined_tokens = ' '.join(stem_tokens)\n",
    "    processed.append(joined_tokens)"
   ]
  },
  {
   "cell_type": "code",
   "execution_count": 25,
   "id": "76af32be-b46c-46b8-99e0-254f86d7ac66",
   "metadata": {},
   "outputs": [],
   "source": [
    "# Reassign processed title to a new column\n",
    "food['tokens'] = pd.DataFrame(processed)"
   ]
  },
  {
   "cell_type": "code",
   "execution_count": 26,
   "id": "e64d6692-43a5-4ff4-a04b-57d3ebb59713",
   "metadata": {},
   "outputs": [
    {
     "data": {
      "text/plain": [
       "subreddit     0\n",
       "title         0\n",
       "word_count    0\n",
       "tokens        0\n",
       "dtype: int64"
      ]
     },
     "execution_count": 26,
     "metadata": {},
     "output_type": "execute_result"
    }
   ],
   "source": [
    "# Check for nulls\n",
    "food.isnull().sum()"
   ]
  },
  {
   "cell_type": "code",
   "execution_count": 27,
   "id": "512af053-6718-4fd9-bc05-04b852247a80",
   "metadata": {},
   "outputs": [],
   "source": [
    "# Reassign values in the subreddit to binary 0/1's for classification\n",
    "food['subreddit'] = food['subreddit'].map({'JapaneseFood': 0, 'chinesefood': 1}) \n",
    "# Save and export cleaned, tokenized, stemmed, stop_words removed data\n",
    "food.to_csv('Data/cleaned_food.csv',index=False)"
   ]
  },
  {
   "cell_type": "code",
   "execution_count": 28,
   "id": "9672dfdb-bb81-48ce-a43b-a1ac11bafaee",
   "metadata": {},
   "outputs": [],
   "source": [
    "# Set X and y for modeling\n",
    "X = food['tokens']\n",
    "y = food['subreddit']"
   ]
  },
  {
   "cell_type": "code",
   "execution_count": 29,
   "id": "7cccab99-9852-4f08-9b08-ad20d92c0f28",
   "metadata": {},
   "outputs": [
    {
     "data": {
      "text/plain": [
       "0    0.621143\n",
       "1    0.378857\n",
       "Name: subreddit, dtype: float64"
      ]
     },
     "execution_count": 29,
     "metadata": {},
     "output_type": "execute_result"
    }
   ],
   "source": [
    "# Baseline Accuracy \n",
    "y.value_counts(normalize=True)"
   ]
  },
  {
   "cell_type": "code",
   "execution_count": 30,
   "id": "fa4f06c6-af33-4745-8941-b1a826371a51",
   "metadata": {},
   "outputs": [
    {
     "data": {
      "image/png": "[encoded data removed]",
      "text/plain": [
       "<Figure size 432x288 with 1 Axes>"
      ]
     },
     "metadata": {
      "needs_background": "light"
     },
     "output_type": "display_data"
    }
   ],
   "source": [
    "plt.hist(food['subreddit'].map({0:'Japanese Food', 1:'Chinese Food'}), bins=3)\n",
    "plt.title('Baseline Accuracy')\n",
    "plt.ylabel('Frequency')\n",
    "plt.xlabel('Subreddits')\n",
    "plt.tight_layout\n",
    "plt.savefig(\"Figures/baseline.png\")"
   ]
  },
  {
   "cell_type": "code",
   "execution_count": 31,
   "id": "a6008d0d-05de-452d-80ee-a017dc5199a5",
   "metadata": {},
   "outputs": [],
   "source": [
    "# Split the data into the training and testing sets.\n",
    "X_train, X_test, y_train, y_test = train_test_split(X, y, test_size=0.2, random_state=42, stratify = y)"
   ]
  },
  {
   "cell_type": "code",
   "execution_count": 32,
   "id": "339ccfdc-a3fa-47cc-88b2-14290a0814e9",
   "metadata": {},
   "outputs": [],
   "source": [
    "# Instantiate a CountVectorizer.\n",
    "cvec = CountVectorizer()\n",
    "# Fit and transform cvec on X_train\n",
    "X_train_cvec = cvec.fit_transform(X_train)\n",
    "# Transform X_test\n",
    "X_test_cvec = cvec.transform(X_test)"
   ]
  },
  {
   "cell_type": "code",
   "execution_count": 33,
   "id": "de5498fd-03c2-441c-a7a1-d1c073d25167",
   "metadata": {},
   "outputs": [],
   "source": [
    "# Instantiate a TfidfVectorizer\n",
    "tfidf = TfidfVectorizer()\n",
    "X_train_tfidf = tfidf.fit_transform(X_train)\n",
    "X_test_tfidf = tfidf.transform(X_test)"
   ]
  },
  {
   "cell_type": "code",
   "execution_count": 34,
   "id": "df518198-d235-41a0-8915-2d54e604fa27",
   "metadata": {},
   "outputs": [
    {
     "data": {
      "text/plain": [
       "matrix([[0, 0, 0, ..., 0, 0, 0],\n",
       "        [0, 0, 0, ..., 0, 0, 0],\n",
       "        [0, 0, 0, ..., 0, 0, 0],\n",
       "        ...,\n",
       "        [0, 0, 0, ..., 0, 0, 0],\n",
       "        [0, 0, 0, ..., 0, 0, 0],\n",
       "        [0, 0, 0, ..., 0, 0, 0]])"
      ]
     },
     "execution_count": 34,
     "metadata": {},
     "output_type": "execute_result"
    }
   ],
   "source": [
    "# Convert to matrix representation\n",
    "X_train_cvec.todense()"
   ]
  },
  {
   "cell_type": "markdown",
   "id": "97134cf2-1d67-4a27-b400-bb76d9c7f5be",
   "metadata": {},
   "source": [
    "## Model: Logistic Regression"
   ]
  },
  {
   "cell_type": "code",
   "execution_count": 36,
   "id": "b777d14d-6a77-4d8a-810b-e6dbae1832bf",
   "metadata": {},
   "outputs": [
    {
     "data": {
      "text/plain": [
       "(0.9730019284336833, 0.9089545844044559)"
      ]
     },
     "execution_count": 36,
     "metadata": {},
     "output_type": "execute_result"
    }
   ],
   "source": [
    "# Logistic Regression\n",
    "lr = LogisticRegressionCV(solver='liblinear')\n",
    "lr.fit(X_train_cvec, y_train)\n",
    "lr.score(X_train_cvec, y_train), lr.score(X_test_cvec, y_test)"
   ]
  },
  {
   "cell_type": "code",
   "execution_count": 37,
   "id": "dc4e60a3-3f54-4451-af30-fd08b360007a",
   "metadata": {},
   "outputs": [
    {
     "data": {
      "text/plain": [
       "(0.9622884079708592, 0.8982433590402742)"
      ]
     },
     "execution_count": 37,
     "metadata": {},
     "output_type": "execute_result"
    }
   ],
   "source": [
    "# Logistic Regression\n",
    "lr_2 = LogisticRegressionCV(solver='liblinear')\n",
    "lr_2.fit(X_train_tfidf, y_train)\n",
    "lr_2.score(X_train_tfidf, y_train), lr.score(X_test_tfidf, y_test)"
   ]
  },
  {
   "cell_type": "markdown",
   "id": "7643d239-5788-4f6a-9ed2-64733e711802",
   "metadata": {},
   "source": [
    "## Model: Naive Bayes"
   ]
  },
  {
   "cell_type": "code",
   "execution_count": 38,
   "id": "83fde482-6f63-451e-8248-e4af3654dab3",
   "metadata": {},
   "outputs": [
    {
     "data": {
      "text/plain": [
       "(0.9438611527748018, 0.9108826049700086)"
      ]
     },
     "execution_count": 38,
     "metadata": {},
     "output_type": "execute_result"
    }
   ],
   "source": [
    "# Instantiate Multinomial Naive Baye\n",
    "nb = MultinomialNB()\n",
    "nb.fit(X_train_cvec, y_train)\n",
    "nb.score(X_train_cvec, y_train), nb.score(X_test_cvec, y_test)"
   ]
  },
  {
   "cell_type": "code",
   "execution_count": 39,
   "id": "2613f764-74f6-4d7f-9dd3-559409466764",
   "metadata": {},
   "outputs": [
    {
     "data": {
      "text/plain": [
       "(0.9300407113777587, 0.895458440445587)"
      ]
     },
     "execution_count": 39,
     "metadata": {},
     "output_type": "execute_result"
    }
   ],
   "source": [
    "nb = MultinomialNB()\n",
    "nb.fit(X_train_tfidf, y_train)\n",
    "nb.score(X_train_tfidf, y_train), nb.score(X_test_tfidf, y_test)"
   ]
  },
  {
   "cell_type": "code",
   "execution_count": 40,
   "id": "7e362836-a9ea-449c-b4ed-cf608d2fda7b",
   "metadata": {},
   "outputs": [
    {
     "data": {
      "text/plain": [
       "(0.9343796871652025, 0.9063838903170522)"
      ]
     },
     "execution_count": 40,
     "metadata": {},
     "output_type": "execute_result"
    }
   ],
   "source": [
    "# Instantiate Bernoulli Naive Baye\n",
    "Bernoulli = BernoulliNB()\n",
    "Bernoulli.fit(X_train_cvec, y_train)\n",
    "Bernoulli.score(X_train_cvec, y_train), Bernoulli.score(X_test_cvec, y_test)"
   ]
  },
  {
   "cell_type": "code",
   "execution_count": 41,
   "id": "dbf7fc44-b172-4e77-9001-47566c020dd0",
   "metadata": {},
   "outputs": [
    {
     "data": {
      "text/plain": [
       "(0.9343796871652025, 0.9063838903170522)"
      ]
     },
     "execution_count": 41,
     "metadata": {},
     "output_type": "execute_result"
    }
   ],
   "source": [
    "Bernoulli = BernoulliNB()\n",
    "Bernoulli.fit(X_train_tfidf, y_train)\n",
    "Bernoulli.score(X_train_tfidf, y_train), Bernoulli.score(X_test_tfidf, y_test)"
   ]
  },
  {
   "cell_type": "markdown",
   "id": "079f6234-9123-4567-a5fe-9b5c2e211f96",
   "metadata": {},
   "source": [
    "## Modeling: Random Forest "
   ]
  },
  {
   "cell_type": "code",
   "execution_count": 42,
   "id": "d016bf29-f8e4-4824-9cbf-9acdfffe46e5",
   "metadata": {},
   "outputs": [],
   "source": [
    "# Instantiate Random forest Classifier\n",
    "rf= RandomForestClassifier()"
   ]
  },
  {
   "cell_type": "code",
   "execution_count": 43,
   "id": "df2d12c3-739b-4444-9e59-f109f9e298f1",
   "metadata": {},
   "outputs": [
    {
     "data": {
      "text/plain": [
       "0.8834902764340281"
      ]
     },
     "execution_count": 43,
     "metadata": {},
     "output_type": "execute_result"
    }
   ],
   "source": [
    "cross_val_score(rf, X_train_cvec, y_train, cv=5).mean()"
   ]
  },
  {
   "cell_type": "code",
   "execution_count": 44,
   "id": "49cc8915-b53f-4d3a-b8b1-8d75aa7000c1",
   "metadata": {},
   "outputs": [
    {
     "name": "stdout",
     "output_type": "stream",
     "text": [
      "0.8832761150674703\n"
     ]
    },
    {
     "data": {
      "text/plain": [
       "{'max_depth': None, 'n_estimators': 200}"
      ]
     },
     "execution_count": 44,
     "metadata": {},
     "output_type": "execute_result"
    }
   ],
   "source": [
    "# GridSearch over hyperparameters for Random Forest Classifier\n",
    "rf_params = {\n",
    "    'n_estimators': [100, 150, 200], # How many trees to build\n",
    "    'max_depth': [None, 1, 2, 3], # Max input in each node. \n",
    "}\n",
    "gs_rf = GridSearchCV(rf, param_grid=rf_params, cv = 5, n_jobs = -1)\n",
    "gs_rf.fit(X_train_cvec, y_train)\n",
    "print(gs_rf.best_score_)\n",
    "gs_rf.best_params_"
   ]
  },
  {
   "cell_type": "code",
   "execution_count": 45,
   "id": "62bc1e4c-570c-4b15-b157-f0a8c25c84a7",
   "metadata": {},
   "outputs": [
    {
     "data": {
      "text/plain": [
       "(0.9981787015213199, 0.8873179091688089)"
      ]
     },
     "execution_count": 45,
     "metadata": {},
     "output_type": "execute_result"
    }
   ],
   "source": [
    "# Evaluate the GridSearched RandomForest scores\n",
    "gs_rf.score(X_train_cvec, y_train), gs_rf.score(X_test_cvec, y_test)"
   ]
  },
  {
   "cell_type": "markdown",
   "id": "fe71848e-043f-498f-9e96-883d4e856bf9",
   "metadata": {},
   "source": [
    "# Evaluations"
   ]
  },
  {
   "cell_type": "code",
   "execution_count": 46,
   "id": "2b4c58ba-4873-495c-b831-9b6dea630faa",
   "metadata": {},
   "outputs": [],
   "source": [
    "# Make a separate dataframe for chinesefood\n",
    "c_chinesefood = food.loc[(food['subreddit']==1)]\n",
    "c_tokens = c_chinesefood['tokens']"
   ]
  },
  {
   "cell_type": "code",
   "execution_count": 47,
   "id": "493010e0-b36f-490a-8bad-c701dc506c5f",
   "metadata": {},
   "outputs": [
    {
     "data": {
      "text/html": [
       "<div>\n",
       "<style scoped>\n",
       "    .dataframe tbody tr th:only-of-type {\n",
       "        vertical-align: middle;\n",
       "    }\n",
       "\n",
       "    .dataframe tbody tr th {\n",
       "        vertical-align: top;\n",
       "    }\n",
       "\n",
       "    .dataframe thead th {\n",
       "        text-align: right;\n",
       "    }\n",
       "</style>\n",
       "<table border=\"1\" class=\"dataframe\">\n",
       "  <thead>\n",
       "    <tr style=\"text-align: right;\">\n",
       "      <th></th>\n",
       "      <th>000</th>\n",
       "      <th>007</th>\n",
       "      <th>08</th>\n",
       "      <th>083</th>\n",
       "      <th>10</th>\n",
       "      <th>100</th>\n",
       "      <th>1000</th>\n",
       "      <th>10000</th>\n",
       "      <th>101</th>\n",
       "      <th>1020</th>\n",
       "      <th>...</th>\n",
       "      <th>𝐟𝐫𝐲</th>\n",
       "      <th>𝗕𝗥𝗔𝗜𝗦𝗘𝗗</th>\n",
       "      <th>𝗕𝗨𝗗𝗦</th>\n",
       "      <th>𝗖𝗛𝗜𝗖𝗞𝗘𝗡</th>\n",
       "      <th>𝗘𝗔𝗥</th>\n",
       "      <th>𝗟𝗜𝗟𝗬</th>\n",
       "      <th>𝗠𝗨𝗦𝗛𝗥𝗢𝗢𝗠𝗦</th>\n",
       "      <th>𝗦𝗛𝗜𝗜𝗧𝗔𝗞𝗘</th>\n",
       "      <th>𝗪𝗜𝗧𝗛</th>\n",
       "      <th>𝗪𝗢𝗢𝗗</th>\n",
       "    </tr>\n",
       "  </thead>\n",
       "  <tbody>\n",
       "    <tr>\n",
       "      <th>0</th>\n",
       "      <td>0</td>\n",
       "      <td>0</td>\n",
       "      <td>0</td>\n",
       "      <td>0</td>\n",
       "      <td>0</td>\n",
       "      <td>0</td>\n",
       "      <td>0</td>\n",
       "      <td>0</td>\n",
       "      <td>0</td>\n",
       "      <td>0</td>\n",
       "      <td>...</td>\n",
       "      <td>0</td>\n",
       "      <td>0</td>\n",
       "      <td>0</td>\n",
       "      <td>0</td>\n",
       "      <td>0</td>\n",
       "      <td>0</td>\n",
       "      <td>0</td>\n",
       "      <td>0</td>\n",
       "      <td>0</td>\n",
       "      <td>0</td>\n",
       "    </tr>\n",
       "    <tr>\n",
       "      <th>1</th>\n",
       "      <td>0</td>\n",
       "      <td>0</td>\n",
       "      <td>0</td>\n",
       "      <td>0</td>\n",
       "      <td>0</td>\n",
       "      <td>0</td>\n",
       "      <td>0</td>\n",
       "      <td>0</td>\n",
       "      <td>0</td>\n",
       "      <td>0</td>\n",
       "      <td>...</td>\n",
       "      <td>0</td>\n",
       "      <td>0</td>\n",
       "      <td>0</td>\n",
       "      <td>0</td>\n",
       "      <td>0</td>\n",
       "      <td>0</td>\n",
       "      <td>0</td>\n",
       "      <td>0</td>\n",
       "      <td>0</td>\n",
       "      <td>0</td>\n",
       "    </tr>\n",
       "    <tr>\n",
       "      <th>2</th>\n",
       "      <td>0</td>\n",
       "      <td>0</td>\n",
       "      <td>0</td>\n",
       "      <td>0</td>\n",
       "      <td>0</td>\n",
       "      <td>0</td>\n",
       "      <td>0</td>\n",
       "      <td>0</td>\n",
       "      <td>0</td>\n",
       "      <td>0</td>\n",
       "      <td>...</td>\n",
       "      <td>0</td>\n",
       "      <td>0</td>\n",
       "      <td>0</td>\n",
       "      <td>0</td>\n",
       "      <td>0</td>\n",
       "      <td>0</td>\n",
       "      <td>0</td>\n",
       "      <td>0</td>\n",
       "      <td>0</td>\n",
       "      <td>0</td>\n",
       "    </tr>\n",
       "    <tr>\n",
       "      <th>3</th>\n",
       "      <td>0</td>\n",
       "      <td>0</td>\n",
       "      <td>0</td>\n",
       "      <td>0</td>\n",
       "      <td>0</td>\n",
       "      <td>0</td>\n",
       "      <td>0</td>\n",
       "      <td>0</td>\n",
       "      <td>0</td>\n",
       "      <td>0</td>\n",
       "      <td>...</td>\n",
       "      <td>0</td>\n",
       "      <td>0</td>\n",
       "      <td>0</td>\n",
       "      <td>0</td>\n",
       "      <td>0</td>\n",
       "      <td>0</td>\n",
       "      <td>0</td>\n",
       "      <td>0</td>\n",
       "      <td>0</td>\n",
       "      <td>0</td>\n",
       "    </tr>\n",
       "    <tr>\n",
       "      <th>4</th>\n",
       "      <td>0</td>\n",
       "      <td>0</td>\n",
       "      <td>0</td>\n",
       "      <td>0</td>\n",
       "      <td>0</td>\n",
       "      <td>0</td>\n",
       "      <td>0</td>\n",
       "      <td>0</td>\n",
       "      <td>0</td>\n",
       "      <td>0</td>\n",
       "      <td>...</td>\n",
       "      <td>0</td>\n",
       "      <td>0</td>\n",
       "      <td>0</td>\n",
       "      <td>0</td>\n",
       "      <td>0</td>\n",
       "      <td>0</td>\n",
       "      <td>0</td>\n",
       "      <td>0</td>\n",
       "      <td>0</td>\n",
       "      <td>0</td>\n",
       "    </tr>\n",
       "  </tbody>\n",
       "</table>\n",
       "<p>5 rows × 7932 columns</p>\n",
       "</div>"
      ],
      "text/plain": [
       "   000  007  08  083  10  100  1000  10000  101  1020  ...  𝐟𝐫𝐲  𝗕𝗥𝗔𝗜𝗦𝗘𝗗  \\\n",
       "0    0    0   0    0   0    0     0      0    0     0  ...    0        0   \n",
       "1    0    0   0    0   0    0     0      0    0     0  ...    0        0   \n",
       "2    0    0   0    0   0    0     0      0    0     0  ...    0        0   \n",
       "3    0    0   0    0   0    0     0      0    0     0  ...    0        0   \n",
       "4    0    0   0    0   0    0     0      0    0     0  ...    0        0   \n",
       "\n",
       "   𝗕𝗨𝗗𝗦  𝗖𝗛𝗜𝗖𝗞𝗘𝗡  𝗘𝗔𝗥  𝗟𝗜𝗟𝗬  𝗠𝗨𝗦𝗛𝗥𝗢𝗢𝗠𝗦  𝗦𝗛𝗜𝗜𝗧𝗔𝗞𝗘  𝗪𝗜𝗧𝗛  𝗪𝗢𝗢𝗗  \n",
       "0     0        0    0     0          0         0     0     0  \n",
       "1     0        0    0     0          0         0     0     0  \n",
       "2     0        0    0     0          0         0     0     0  \n",
       "3     0        0    0     0          0         0     0     0  \n",
       "4     0        0    0     0          0         0     0     0  \n",
       "\n",
       "[5 rows x 7932 columns]"
      ]
     },
     "execution_count": 47,
     "metadata": {},
     "output_type": "execute_result"
    }
   ],
   "source": [
    "# CountVectorize to tokenize the title\n",
    "cv_chinese = CountVectorizer()\n",
    "ch_vect = cv_chinese.fit_transform(c_tokens)\n",
    "ch_vect_df = pd.DataFrame(ch_vect.todense(), columns=cv_chinese.get_feature_names())\n",
    "ch_vect_df.head()"
   ]
  },
  {
   "cell_type": "code",
   "execution_count": 48,
   "id": "36cedcc8-fa99-49ac-b9c4-262f252fd2ff",
   "metadata": {},
   "outputs": [],
   "source": [
    "# Make a separate dataframe for Japanesefood\n",
    "c_japanesefood = food.loc[(food['subreddit']==0)]\n",
    "j_tokens = c_japanesefood['tokens']"
   ]
  },
  {
   "cell_type": "code",
   "execution_count": 49,
   "id": "15be6319-60e0-4dab-9f4d-e3c60d490bdb",
   "metadata": {},
   "outputs": [
    {
     "data": {
      "text/html": [
       "<div>\n",
       "<style scoped>\n",
       "    .dataframe tbody tr th:only-of-type {\n",
       "        vertical-align: middle;\n",
       "    }\n",
       "\n",
       "    .dataframe tbody tr th {\n",
       "        vertical-align: top;\n",
       "    }\n",
       "\n",
       "    .dataframe thead th {\n",
       "        text-align: right;\n",
       "    }\n",
       "</style>\n",
       "<table border=\"1\" class=\"dataframe\">\n",
       "  <thead>\n",
       "    <tr style=\"text-align: right;\">\n",
       "      <th></th>\n",
       "      <th>00</th>\n",
       "      <th>000</th>\n",
       "      <th>0032</th>\n",
       "      <th>0044</th>\n",
       "      <th>0064</th>\n",
       "      <th>00pm</th>\n",
       "      <th>01</th>\n",
       "      <th>017</th>\n",
       "      <th>02</th>\n",
       "      <th>020</th>\n",
       "      <th>...</th>\n",
       "      <th>𝗪𝗵𝗮𝘁</th>\n",
       "      <th>𝗮𝗻𝗱</th>\n",
       "      <th>𝗳𝗼𝗼𝗱</th>\n",
       "      <th>𝗶𝗻</th>\n",
       "      <th>𝗶𝘀</th>\n",
       "      <th>𝗺𝗼𝘀𝘁</th>\n",
       "      <th>𝗼𝘃𝗲𝗿</th>\n",
       "      <th>𝗼𝘃𝗲𝗿𝗿𝗮𝘁𝗲𝗱</th>\n",
       "      <th>𝗽𝗿𝗮𝗶𝘀𝗲𝗱</th>\n",
       "      <th>𝘁𝗵𝗲</th>\n",
       "    </tr>\n",
       "  </thead>\n",
       "  <tbody>\n",
       "    <tr>\n",
       "      <th>0</th>\n",
       "      <td>0</td>\n",
       "      <td>0</td>\n",
       "      <td>0</td>\n",
       "      <td>0</td>\n",
       "      <td>0</td>\n",
       "      <td>0</td>\n",
       "      <td>0</td>\n",
       "      <td>0</td>\n",
       "      <td>0</td>\n",
       "      <td>0</td>\n",
       "      <td>...</td>\n",
       "      <td>0</td>\n",
       "      <td>0</td>\n",
       "      <td>0</td>\n",
       "      <td>0</td>\n",
       "      <td>0</td>\n",
       "      <td>0</td>\n",
       "      <td>0</td>\n",
       "      <td>0</td>\n",
       "      <td>0</td>\n",
       "      <td>0</td>\n",
       "    </tr>\n",
       "    <tr>\n",
       "      <th>1</th>\n",
       "      <td>0</td>\n",
       "      <td>0</td>\n",
       "      <td>0</td>\n",
       "      <td>0</td>\n",
       "      <td>0</td>\n",
       "      <td>0</td>\n",
       "      <td>0</td>\n",
       "      <td>0</td>\n",
       "      <td>0</td>\n",
       "      <td>0</td>\n",
       "      <td>...</td>\n",
       "      <td>0</td>\n",
       "      <td>0</td>\n",
       "      <td>0</td>\n",
       "      <td>0</td>\n",
       "      <td>0</td>\n",
       "      <td>0</td>\n",
       "      <td>0</td>\n",
       "      <td>0</td>\n",
       "      <td>0</td>\n",
       "      <td>0</td>\n",
       "    </tr>\n",
       "    <tr>\n",
       "      <th>2</th>\n",
       "      <td>0</td>\n",
       "      <td>0</td>\n",
       "      <td>0</td>\n",
       "      <td>0</td>\n",
       "      <td>0</td>\n",
       "      <td>0</td>\n",
       "      <td>0</td>\n",
       "      <td>0</td>\n",
       "      <td>0</td>\n",
       "      <td>0</td>\n",
       "      <td>...</td>\n",
       "      <td>0</td>\n",
       "      <td>0</td>\n",
       "      <td>0</td>\n",
       "      <td>0</td>\n",
       "      <td>0</td>\n",
       "      <td>0</td>\n",
       "      <td>0</td>\n",
       "      <td>0</td>\n",
       "      <td>0</td>\n",
       "      <td>0</td>\n",
       "    </tr>\n",
       "    <tr>\n",
       "      <th>3</th>\n",
       "      <td>0</td>\n",
       "      <td>0</td>\n",
       "      <td>0</td>\n",
       "      <td>0</td>\n",
       "      <td>0</td>\n",
       "      <td>0</td>\n",
       "      <td>0</td>\n",
       "      <td>0</td>\n",
       "      <td>0</td>\n",
       "      <td>0</td>\n",
       "      <td>...</td>\n",
       "      <td>0</td>\n",
       "      <td>0</td>\n",
       "      <td>0</td>\n",
       "      <td>0</td>\n",
       "      <td>0</td>\n",
       "      <td>0</td>\n",
       "      <td>0</td>\n",
       "      <td>0</td>\n",
       "      <td>0</td>\n",
       "      <td>0</td>\n",
       "    </tr>\n",
       "    <tr>\n",
       "      <th>4</th>\n",
       "      <td>0</td>\n",
       "      <td>0</td>\n",
       "      <td>0</td>\n",
       "      <td>0</td>\n",
       "      <td>0</td>\n",
       "      <td>0</td>\n",
       "      <td>0</td>\n",
       "      <td>0</td>\n",
       "      <td>0</td>\n",
       "      <td>0</td>\n",
       "      <td>...</td>\n",
       "      <td>0</td>\n",
       "      <td>0</td>\n",
       "      <td>0</td>\n",
       "      <td>0</td>\n",
       "      <td>0</td>\n",
       "      <td>0</td>\n",
       "      <td>0</td>\n",
       "      <td>0</td>\n",
       "      <td>0</td>\n",
       "      <td>0</td>\n",
       "    </tr>\n",
       "  </tbody>\n",
       "</table>\n",
       "<p>5 rows × 10141 columns</p>\n",
       "</div>"
      ],
      "text/plain": [
       "   00  000  0032  0044  0064  00pm  01  017  02  020  ...  𝗪𝗵𝗮𝘁  𝗮𝗻𝗱  𝗳𝗼𝗼𝗱  \\\n",
       "0   0    0     0     0     0     0   0    0   0    0  ...     0    0     0   \n",
       "1   0    0     0     0     0     0   0    0   0    0  ...     0    0     0   \n",
       "2   0    0     0     0     0     0   0    0   0    0  ...     0    0     0   \n",
       "3   0    0     0     0     0     0   0    0   0    0  ...     0    0     0   \n",
       "4   0    0     0     0     0     0   0    0   0    0  ...     0    0     0   \n",
       "\n",
       "   𝗶𝗻  𝗶𝘀  𝗺𝗼𝘀𝘁  𝗼𝘃𝗲𝗿  𝗼𝘃𝗲𝗿𝗿𝗮𝘁𝗲𝗱  𝗽𝗿𝗮𝗶𝘀𝗲𝗱  𝘁𝗵𝗲  \n",
       "0   0   0     0     0          0        0    0  \n",
       "1   0   0     0     0          0        0    0  \n",
       "2   0   0     0     0          0        0    0  \n",
       "3   0   0     0     0          0        0    0  \n",
       "4   0   0     0     0          0        0    0  \n",
       "\n",
       "[5 rows x 10141 columns]"
      ]
     },
     "execution_count": 49,
     "metadata": {},
     "output_type": "execute_result"
    }
   ],
   "source": [
    "# CountVectorize to tokenize the title\n",
    "cv_jap = CountVectorizer()\n",
    "jap_vect = cv_jap.fit_transform(j_tokens)\n",
    "jap_vect_df = pd.DataFrame(jap_vect.todense(), columns=cv_jap.get_feature_names())\n",
    "jap_vect_df.head()"
   ]
  },
  {
   "cell_type": "code",
   "execution_count": 50,
   "id": "d073eb34-7409-4deb-a105-d04d703a922e",
   "metadata": {},
   "outputs": [
    {
     "data": {
      "image/png": "[encoded data removed]",
      "text/plain": [
       "<Figure size 1152x432 with 2 Axes>"
      ]
     },
     "metadata": {
      "needs_background": "light"
     },
     "output_type": "display_data"
    }
   ],
   "source": [
    "# Plot to visualize the top 10 occuring words in each subreddit\n",
    "fig, ax = plt.subplots(1, 2, figsize=(16,6))\n",
    "ch_vect_df.sum().sort_values(ascending=False).head(10).plot(kind='barh', ax=ax[0], fontsize=14)\n",
    "jap_vect_df.sum().sort_values(ascending=False).head(10).plot(kind='barh', ax=ax[1], fontsize=14, color='orange')\n",
    "\n",
    "ax[1].set_title('Japanese Food', fontsize=18)\n",
    "ax[0].set_title('Chinese Food', fontsize=18)\n",
    "ax[0].invert_yaxis()\n",
    "ax[1].invert_yaxis()\n",
    "\n",
    "fig.suptitle('Top 10 Words', fontsize=24)\n",
    "fig.text(0.5, 0.04, 'Number of Occurances', \n",
    "         ha='center', fontsize=18);\n",
    "\n",
    "plt.savefig(\"Figures/top_10_words.png\")"
   ]
  },
  {
   "cell_type": "code",
   "execution_count": 51,
   "id": "ce0192c9-cea7-4fb6-98e3-c535f5a2bc32",
   "metadata": {},
   "outputs": [
    {
     "name": "stdout",
     "output_type": "stream",
     "text": [
      " ======Logistic Regression======\n",
      "Count Vectorizer Training Score: 0.9730019284336833\n",
      "Count Vectorizer Testing Score: 0.9089545844044559\n",
      "Difference: 0.0640473440292274\n",
      "\n",
      "Tfidf Vectorizer Training Score: 0.9622884079708592\n",
      "Tfidf Vectorizer Testing Score: 0.910025706940874\n",
      "Difference: 0.052262701029985204\n",
      "\n",
      " ======Multinomial Naive Bayes======\n",
      "Count Vectorizer Training Score: 0.9358795800299978\n",
      "Count Vectorizer Testing Score: 0.9068123393316195\n",
      "Difference: 0.029067240698378294\n",
      "\n",
      "Tfidf Vectorizer Training Score: 0.9300407113777587\n",
      "Tfidf Vectorizer Testing Score: 0.895458440445587\n",
      "Difference: 0.0345822709321717\n",
      "\n",
      " ======Bernoulli Naive Bayes======\n",
      "Count Vectorizer Training Score: 0.9343796871652025\n",
      "Count Vectorizer Testing Score: 0.9063838903170522\n",
      "Difference: 0.027995796848150234\n",
      "\n",
      "Tfidf Vectorizer Training Score: 0.9343796871652025\n",
      "Tfidf Vectorizer Testing Score: 0.9063838903170522\n",
      "Difference: 0.027995796848150234\n",
      "\n",
      " ======Random Forest Classifier======\n",
      "Count Vectorizer GS Training Score: 0.9981787015213199\n",
      "Count Vectorizer GS Testing Score: 0.8873179091688089\n",
      "Difference: 0.110860792352511\n"
     ]
    }
   ],
   "source": [
    "# Evaluate different model performances\n",
    "print(' ======Logistic Regression======')\n",
    "print(f'Count Vectorizer Training Score: {lr.score(X_train_cvec, y_train)}')\n",
    "print(f'Count Vectorizer Testing Score: {lr.score(X_test_cvec, y_test)}')\n",
    "print(f'Difference: {lr.score(X_train_cvec, y_train) - lr.score(X_test_cvec, y_test)}')\n",
    "print()\n",
    "print(f'Tfidf Vectorizer Training Score: {lr_2.score(X_train_tfidf, y_train)}') \n",
    "print(f'Tfidf Vectorizer Testing Score: {lr_2.score(X_test_tfidf, y_test)}')\n",
    "print(f'Difference: {lr_2.score(X_train_tfidf, y_train) - lr_2.score(X_test_tfidf, y_test)}')\n",
    "print()\n",
    "print(' ======Multinomial Naive Bayes======')\n",
    "print(f'Count Vectorizer Training Score: {nb.score(X_train_cvec, y_train)}'), \n",
    "print(f'Count Vectorizer Testing Score: {nb.score(X_test_cvec, y_test)}'),\n",
    "print(f'Difference: {nb.score(X_train_cvec, y_train)-nb.score(X_test_cvec, y_test)}')\n",
    "print()\n",
    "print(f'Tfidf Vectorizer Training Score: {nb.score(X_train_tfidf, y_train)}') \n",
    "print(f'Tfidf Vectorizer Testing Score: {nb.score(X_test_tfidf, y_test)}')\n",
    "print(f'Difference: {nb.score(X_train_tfidf, y_train) - nb.score(X_test_tfidf, y_test)}')\n",
    "print()\n",
    "print(' ======Bernoulli Naive Bayes======')\n",
    "print(f'Count Vectorizer Training Score: {Bernoulli.score(X_train_cvec, y_train)}')\n",
    "print(f'Count Vectorizer Testing Score: {Bernoulli.score(X_test_cvec, y_test)}')\n",
    "print(f'Difference: {Bernoulli.score(X_train_cvec, y_train)-Bernoulli.score(X_test_cvec, y_test)}')\n",
    "print()\n",
    "print(f'Tfidf Vectorizer Training Score: {Bernoulli.score(X_train_tfidf, y_train)}')\n",
    "print(f'Tfidf Vectorizer Testing Score: {Bernoulli.score(X_test_tfidf, y_test)}')\n",
    "print(f'Difference: {Bernoulli.score(X_train_tfidf, y_train) - Bernoulli.score(X_test_tfidf, y_test)}')\n",
    "print()\n",
    "print(' ======Random Forest Classifier======')\n",
    "print(f'Count Vectorizer GS Training Score: {gs_rf.score(X_train_cvec, y_train)}')\n",
    "print(f'Count Vectorizer GS Testing Score: {gs_rf.score(X_test_cvec, y_test)}')\n",
    "print(f'Difference: {gs_rf.score(X_train_cvec, y_train)-gs_rf.score(X_test_cvec, y_test)}')"
   ]
  },
  {
   "cell_type": "markdown",
   "id": "a8a9b9bf-19e7-4840-a4ca-0713c17a25db",
   "metadata": {},
   "source": [
    "# Model selection & Prediction\n",
    "- Multinomial and Bernoulli naive bayes perform very similarly on the testing scores. However, the Bernoulli naive baye has a slightly lower difference between training and testing scores, suggesting more balanced bias/variances trade-ff and less overfit. \n",
    "- No significant differences between the choice of count vectorizers were examined.\n",
    "- Random forest classifier is not a good model for this project for a couple of reasons. \n",
    "    - The model is highly overfitting and has lower testing scores than all the other models.\n",
    "    - Random forest classifiers do not work well with unbalanced datasets, which in our case, the number of posts in 'JapaneseFood' and 'ChineseFood' is not balanced. The unbalance will bias the result of the trees toward the majority class, which is the 'JapaneseFood' subreddit. "
   ]
  },
  {
   "cell_type": "code",
   "execution_count": 52,
   "id": "80cc5081-631c-4d85-b01c-36e25f4bc431",
   "metadata": {},
   "outputs": [],
   "source": [
    "predictions = Bernoulli.predict(X_test_cvec)"
   ]
  },
  {
   "cell_type": "code",
   "execution_count": 53,
   "id": "17ca198a-65f4-4a16-a0f8-84ded5cd96cf",
   "metadata": {},
   "outputs": [],
   "source": [
    "# Create a confusion matrix\n",
    "tn, fp, fn, tp = metrics.confusion_matrix(y_test, predictions).ravel()"
   ]
  },
  {
   "cell_type": "code",
   "execution_count": 54,
   "id": "f3b4e1de-8fca-413c-b520-48faa8c0c6f7",
   "metadata": {},
   "outputs": [
    {
     "data": {
      "image/png": "[encoded data removed]",
      "text/plain": [
       "<Figure size 432x288 with 2 Axes>"
      ]
     },
     "metadata": {
      "needs_background": "light"
     },
     "output_type": "display_data"
    }
   ],
   "source": [
    "# Visualize confusion matrix\n",
    "metrics.plot_confusion_matrix(Bernoulli, X_test_cvec, y_test, display_labels= ['Japanese Food', 'Chinese Food'], cmap='PuBu');\n",
    "plt.title('Confusion Matrix')\n",
    "plt.tight_layout()\n",
    "plt.savefig('Figures/confusion_matrix.png')"
   ]
  },
  {
   "cell_type": "code",
   "execution_count": 55,
   "id": "ddd208da-7360-421d-85f3-8a6ffbb90ccd",
   "metadata": {},
   "outputs": [
    {
     "data": {
      "text/plain": [
       "0.8669710806697108"
      ]
     },
     "execution_count": 55,
     "metadata": {},
     "output_type": "execute_result"
    }
   ],
   "source": [
    "# F1 score of the confusion matrix\n",
    "metrics.f1_score(y_test, predictions)"
   ]
  },
  {
   "cell_type": "code",
   "execution_count": 56,
   "id": "966d6f3d-834b-4c84-b334-5a8a44514117",
   "metadata": {},
   "outputs": [
    {
     "name": "stdout",
     "output_type": "stream",
     "text": [
      "Model Performance\n",
      "Accuracy: 0.9063838903170522\n",
      "Precision: 0.9393139841688655\n",
      "Sensitivity & Type II Error: 0.8049745618993782\n",
      "Specificity & Type I Error: 0.9682649189375647\n"
     ]
    }
   ],
   "source": [
    "print('Model Performance')\n",
    "print(f'Accuracy: {(tn + tp)/(tn+fp+fn+tp)}')\n",
    "print(f'Precision: {(tp)/(fp+tp)}')\n",
    "print(f'Sensitivity & Type II Error: {(tp)/(tp+fn)}')\n",
    "print(f'Specificity & Type I Error: {(tn)/(tn+fp)}')"
   ]
  },
  {
   "cell_type": "markdown",
   "id": "df6bde22-72ea-4acc-93f6-cac0730a9472",
   "metadata": {},
   "source": [
    "## Conclusions:\n",
    "- The classification model we have created is a Bernoulli Naive Baye Classifier using CountVectorizer as the transformer. It has a training score of 0.9343796871652025, a testing score of 0.9063838903170522, and the difference between the two scores is 0.027995796848150234.\n",
    "- The model has 90.6% accuracy on unseen data and balanced bias/variances tradeoff. \n",
    "- we expect the model to have better performances with a larger and more evenly distributed dataset.  The dataset used in this project was not evenly distributed because ChineseFood subreddit had fewer than 10_000 total posts by the time we created the model. Thus, we also had to limit the number of datasets for the JapaneseFood subreddit to limit the bias towards the majority class. \n",
    "- In conclusion, machine learning allows us to create a model using CountVectorizer and Bernoulli Naive Baye Classifier to distinguish and separate posts into their corresponding Reddits with 90% accuracy. This model can be applied to sort other subreddits, and we expect the accuracy to be higher on subreddits with more distinct characteristics. "
   ]
  }
 ],
 "metadata": {
  "kernelspec": {
   "display_name": "Python 3",
   "language": "python",
   "name": "python3"
  },
  "language_info": {
   "codemirror_mode": {
    "name": "ipython",
    "version": 3
   },
   "file_extension": ".py",
   "mimetype": "text/x-python",
   "name": "python",
   "nbconvert_exporter": "python",
   "pygments_lexer": "ipython3",
   "version": "3.9.4"
  }
 },
 "nbformat": 4,
 "nbformat_minor": 5
}
